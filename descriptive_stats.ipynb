{
 "cells": [
  {
   "cell_type": "code",
   "execution_count": 1,
   "id": "5ef2db8a",
   "metadata": {},
   "outputs": [],
   "source": [
    "import pandas as pd\n",
    "import numpy as np\n",
    "import seaborn as sns\n",
    "import matplotlib.pyplot as plt"
   ]
  },
  {
   "cell_type": "code",
   "execution_count": 2,
   "id": "55a947e3",
   "metadata": {},
   "outputs": [],
   "source": [
    "df = sns.load_dataset('iris')"
   ]
  },
  {
   "cell_type": "code",
   "execution_count": 3,
   "id": "82b48b80",
   "metadata": {},
   "outputs": [
    {
     "data": {
      "text/html": [
       "<div>\n",
       "<style scoped>\n",
       "    .dataframe tbody tr th:only-of-type {\n",
       "        vertical-align: middle;\n",
       "    }\n",
       "\n",
       "    .dataframe tbody tr th {\n",
       "        vertical-align: top;\n",
       "    }\n",
       "\n",
       "    .dataframe thead th {\n",
       "        text-align: right;\n",
       "    }\n",
       "</style>\n",
       "<table border=\"1\" class=\"dataframe\">\n",
       "  <thead>\n",
       "    <tr style=\"text-align: right;\">\n",
       "      <th></th>\n",
       "      <th>sepal_length</th>\n",
       "      <th>sepal_width</th>\n",
       "      <th>petal_length</th>\n",
       "      <th>petal_width</th>\n",
       "    </tr>\n",
       "  </thead>\n",
       "  <tbody>\n",
       "    <tr>\n",
       "      <th>count</th>\n",
       "      <td>150.000000</td>\n",
       "      <td>150.000000</td>\n",
       "      <td>150.000000</td>\n",
       "      <td>150.000000</td>\n",
       "    </tr>\n",
       "    <tr>\n",
       "      <th>mean</th>\n",
       "      <td>5.843333</td>\n",
       "      <td>3.057333</td>\n",
       "      <td>3.758000</td>\n",
       "      <td>1.199333</td>\n",
       "    </tr>\n",
       "    <tr>\n",
       "      <th>std</th>\n",
       "      <td>0.828066</td>\n",
       "      <td>0.435866</td>\n",
       "      <td>1.765298</td>\n",
       "      <td>0.762238</td>\n",
       "    </tr>\n",
       "    <tr>\n",
       "      <th>min</th>\n",
       "      <td>4.300000</td>\n",
       "      <td>2.000000</td>\n",
       "      <td>1.000000</td>\n",
       "      <td>0.100000</td>\n",
       "    </tr>\n",
       "    <tr>\n",
       "      <th>25%</th>\n",
       "      <td>5.100000</td>\n",
       "      <td>2.800000</td>\n",
       "      <td>1.600000</td>\n",
       "      <td>0.300000</td>\n",
       "    </tr>\n",
       "    <tr>\n",
       "      <th>50%</th>\n",
       "      <td>5.800000</td>\n",
       "      <td>3.000000</td>\n",
       "      <td>4.350000</td>\n",
       "      <td>1.300000</td>\n",
       "    </tr>\n",
       "    <tr>\n",
       "      <th>75%</th>\n",
       "      <td>6.400000</td>\n",
       "      <td>3.300000</td>\n",
       "      <td>5.100000</td>\n",
       "      <td>1.800000</td>\n",
       "    </tr>\n",
       "    <tr>\n",
       "      <th>max</th>\n",
       "      <td>7.900000</td>\n",
       "      <td>4.400000</td>\n",
       "      <td>6.900000</td>\n",
       "      <td>2.500000</td>\n",
       "    </tr>\n",
       "  </tbody>\n",
       "</table>\n",
       "</div>"
      ],
      "text/plain": [
       "       sepal_length  sepal_width  petal_length  petal_width\n",
       "count    150.000000   150.000000    150.000000   150.000000\n",
       "mean       5.843333     3.057333      3.758000     1.199333\n",
       "std        0.828066     0.435866      1.765298     0.762238\n",
       "min        4.300000     2.000000      1.000000     0.100000\n",
       "25%        5.100000     2.800000      1.600000     0.300000\n",
       "50%        5.800000     3.000000      4.350000     1.300000\n",
       "75%        6.400000     3.300000      5.100000     1.800000\n",
       "max        7.900000     4.400000      6.900000     2.500000"
      ]
     },
     "execution_count": 3,
     "metadata": {},
     "output_type": "execute_result"
    }
   ],
   "source": [
    "df.describe()"
   ]
  },
  {
   "cell_type": "code",
   "execution_count": 4,
   "id": "61c86b11",
   "metadata": {},
   "outputs": [
    {
     "data": {
      "text/html": [
       "<div>\n",
       "<style scoped>\n",
       "    .dataframe tbody tr th:only-of-type {\n",
       "        vertical-align: middle;\n",
       "    }\n",
       "\n",
       "    .dataframe tbody tr th {\n",
       "        vertical-align: top;\n",
       "    }\n",
       "\n",
       "    .dataframe thead th {\n",
       "        text-align: right;\n",
       "    }\n",
       "</style>\n",
       "<table border=\"1\" class=\"dataframe\">\n",
       "  <thead>\n",
       "    <tr style=\"text-align: right;\">\n",
       "      <th></th>\n",
       "      <th>sepal_length</th>\n",
       "      <th>sepal_width</th>\n",
       "      <th>petal_length</th>\n",
       "      <th>petal_width</th>\n",
       "      <th>species</th>\n",
       "    </tr>\n",
       "  </thead>\n",
       "  <tbody>\n",
       "    <tr>\n",
       "      <th>0</th>\n",
       "      <td>5.1</td>\n",
       "      <td>3.5</td>\n",
       "      <td>1.4</td>\n",
       "      <td>0.2</td>\n",
       "      <td>setosa</td>\n",
       "    </tr>\n",
       "    <tr>\n",
       "      <th>1</th>\n",
       "      <td>4.9</td>\n",
       "      <td>3.0</td>\n",
       "      <td>1.4</td>\n",
       "      <td>0.2</td>\n",
       "      <td>setosa</td>\n",
       "    </tr>\n",
       "    <tr>\n",
       "      <th>2</th>\n",
       "      <td>4.7</td>\n",
       "      <td>3.2</td>\n",
       "      <td>1.3</td>\n",
       "      <td>0.2</td>\n",
       "      <td>setosa</td>\n",
       "    </tr>\n",
       "    <tr>\n",
       "      <th>3</th>\n",
       "      <td>4.6</td>\n",
       "      <td>3.1</td>\n",
       "      <td>1.5</td>\n",
       "      <td>0.2</td>\n",
       "      <td>setosa</td>\n",
       "    </tr>\n",
       "    <tr>\n",
       "      <th>4</th>\n",
       "      <td>5.0</td>\n",
       "      <td>3.6</td>\n",
       "      <td>1.4</td>\n",
       "      <td>0.2</td>\n",
       "      <td>setosa</td>\n",
       "    </tr>\n",
       "  </tbody>\n",
       "</table>\n",
       "</div>"
      ],
      "text/plain": [
       "   sepal_length  sepal_width  petal_length  petal_width species\n",
       "0           5.1          3.5           1.4          0.2  setosa\n",
       "1           4.9          3.0           1.4          0.2  setosa\n",
       "2           4.7          3.2           1.3          0.2  setosa\n",
       "3           4.6          3.1           1.5          0.2  setosa\n",
       "4           5.0          3.6           1.4          0.2  setosa"
      ]
     },
     "execution_count": 4,
     "metadata": {},
     "output_type": "execute_result"
    }
   ],
   "source": [
    "df.head()"
   ]
  },
  {
   "cell_type": "code",
   "execution_count": 6,
   "id": "7bc859a2",
   "metadata": {},
   "outputs": [
    {
     "name": "stdout",
     "output_type": "stream",
     "text": [
      "Mean: 5.843333333333334\n",
      "Median: 5.8\n",
      "Standard Deviation: 0.828066127977863\n",
      "Variance: 0.6856935123042507\n"
     ]
    }
   ],
   "source": [
    "data = df['sepal_length']\n",
    "print(f\"Mean: {data.mean()}\")\n",
    "print(f\"Median: {data.median()}\")\n",
    "print(f\"Standard Deviation: {data.std()}\") \n",
    "print(f\"Variance: {data.var()}\")"
   ]
  },
  {
   "cell_type": "code",
   "execution_count": 7,
   "id": "42217899",
   "metadata": {},
   "outputs": [
    {
     "name": "stdout",
     "output_type": "stream",
     "text": [
      "Mean:  5.84, Min:  4.30, Max:  7.90\n"
     ]
    }
   ],
   "source": [
    "print(f\"Mean: {data.mean(): .2f}, Min: {data.min(): .2f}, Max: {data.max(): .2f}\")"
   ]
  },
  {
   "cell_type": "code",
   "execution_count": 8,
   "id": "167fb23e",
   "metadata": {},
   "outputs": [
    {
     "name": "stdout",
     "output_type": "stream",
     "text": [
      "Range:  3.60\n"
     ]
    }
   ],
   "source": [
    "# Range\n",
    "print(f\"Range: {data.max() - data.min(): .2f}\")"
   ]
  },
  {
   "cell_type": "code",
   "execution_count": 9,
   "id": "045d5ff1",
   "metadata": {},
   "outputs": [
    {
     "name": "stdout",
     "output_type": "stream",
     "text": [
      "IQR:  1.30\n"
     ]
    }
   ],
   "source": [
    "# IQR\n",
    "print(f\"IQR: {data.quantile(0.75) - data.quantile(0.25): .2f}\")"
   ]
  },
  {
   "cell_type": "code",
   "execution_count": 10,
   "id": "aaa14c14",
   "metadata": {},
   "outputs": [
    {
     "name": "stdout",
     "output_type": "stream",
     "text": [
      "IQR:  1.30\n"
     ]
    }
   ],
   "source": [
    "# IQR\n",
    "Q1 = np.percentile(data, 25)\n",
    "Q3 = np.percentile(data, 75)\n",
    "print(f\"IQR: {Q3 - Q1: .2f}\")"
   ]
  },
  {
   "cell_type": "code",
   "execution_count": 11,
   "id": "b71fdb48",
   "metadata": {},
   "outputs": [
    {
     "data": {
      "text/plain": [
       "5.1"
      ]
     },
     "execution_count": 11,
     "metadata": {},
     "output_type": "execute_result"
    }
   ],
   "source": [
    "Q1"
   ]
  },
  {
   "cell_type": "code",
   "execution_count": 12,
   "id": "a39b1cd1",
   "metadata": {},
   "outputs": [
    {
     "data": {
      "text/plain": [
       "6.4"
      ]
     },
     "execution_count": 12,
     "metadata": {},
     "output_type": "execute_result"
    }
   ],
   "source": [
    "Q3"
   ]
  },
  {
   "cell_type": "code",
   "execution_count": 13,
   "id": "a5a711eb",
   "metadata": {},
   "outputs": [
    {
     "name": "stdout",
     "output_type": "stream",
     "text": [
      "Population Variance:  0.68\n"
     ]
    }
   ],
   "source": [
    "# Variance\n",
    "pop_variance = data.var(ddof=0)\n",
    "print(f\"Population Variance: {pop_variance: .2f}\")"
   ]
  },
  {
   "cell_type": "code",
   "execution_count": 24,
   "id": "91ca7e60",
   "metadata": {},
   "outputs": [
    {
     "name": "stdout",
     "output_type": "stream",
     "text": [
      "Sample Variance:  0.69\n"
     ]
    }
   ],
   "source": [
    "# Variance\n",
    "sample_variance = data.var(ddof=1)\n",
    "print(f\"Sample Variance: {sample_variance: .2f}\")"
   ]
  },
  {
   "cell_type": "code",
   "execution_count": 23,
   "id": "74b15660",
   "metadata": {},
   "outputs": [
    {
     "name": "stdout",
     "output_type": "stream",
     "text": [
      "Population Variance:  0.68\n",
      "Sample Variance:  0.69\n"
     ]
    }
   ],
   "source": [
    "# Variance\n",
    "pop_var = np.var(data, ddof=0)\n",
    "print(f\"Population Variance: {pop_var: .2f}\")\n",
    "\n",
    "sample_var = np.var(data, ddof=1)\n",
    "print(f\"Sample Variance: {sample_var: .2f}\")\n"
   ]
  },
  {
   "cell_type": "code",
   "execution_count": 15,
   "id": "1f3f773c",
   "metadata": {},
   "outputs": [
    {
     "name": "stdout",
     "output_type": "stream",
     "text": [
      "Population Standard Deviation:  0.83\n",
      "Sample Standard Deviation:  0.83\n"
     ]
    }
   ],
   "source": [
    "# Standard Deviation\n",
    "pop_std_dev = data.std(ddof=0)\n",
    "print(f\"Population Standard Deviation: {pop_std_dev: .2f}\")\n",
    "\n",
    "sample_std_dev = data.std(ddof=1)\n",
    "print(f\"Sample Standard Deviation: {sample_std_dev: .2f}\")"
   ]
  },
  {
   "cell_type": "code",
   "execution_count": 17,
   "id": "165950c8",
   "metadata": {},
   "outputs": [
    {
     "data": {
      "text/plain": [
       "0.8253012917851409"
      ]
     },
     "execution_count": 17,
     "metadata": {},
     "output_type": "execute_result"
    }
   ],
   "source": [
    "# Standard Deviation\n",
    "pop_std = np.std(data, ddof=0)\n",
    "pop_std"
   ]
  },
  {
   "cell_type": "code",
   "execution_count": 19,
   "id": "c4a4f9a9",
   "metadata": {},
   "outputs": [
    {
     "data": {
      "text/plain": [
       "0.828066127977863"
      ]
     },
     "execution_count": 19,
     "metadata": {},
     "output_type": "execute_result"
    }
   ],
   "source": [
    "# Standard Deviation\n",
    "sample_std = np.std(data, ddof=1)\n",
    "sample_std\n"
   ]
  },
  {
   "cell_type": "code",
   "execution_count": 22,
   "id": "d9295d6d",
   "metadata": {},
   "outputs": [
    {
     "name": "stdout",
     "output_type": "stream",
     "text": [
      "0.828066127977863\n",
      "0.8253012917851409\n"
     ]
    }
   ],
   "source": [
    "# Default differences\n",
    "print(data.std()) # default is sample\n",
    "print(np.std(data)) # default is population"
   ]
  },
  {
   "cell_type": "code",
   "execution_count": 25,
   "id": "6b467d87",
   "metadata": {},
   "outputs": [
    {
     "data": {
      "image/png": "[encoded data removed]",
      "text/plain": [
       "<Figure size 640x480 with 1 Axes>"
      ]
     },
     "metadata": {},
     "output_type": "display_data"
    }
   ],
   "source": [
    "sns.boxplot(x=data)\n",
    "plt.title('Spread of sepal lengths')\n",
    "plt.show()"
   ]
  },
  {
   "cell_type": "code",
   "execution_count": 28,
   "id": "539e9ce0",
   "metadata": {},
   "outputs": [
    {
     "data": {
      "image/png": "[encoded data removed]",
      "text/plain": [
       "<Figure size 640x480 with 1 Axes>"
      ]
     },
     "metadata": {},
     "output_type": "display_data"
    }
   ],
   "source": [
    "sns.histplot(x=data, kde=True)\n",
    "plt.title(\"Distribution of Sepal Lengths\")\n",
    "plt.show()"
   ]
  },
  {
   "cell_type": "code",
   "execution_count": 29,
   "id": "9129c0bc",
   "metadata": {},
   "outputs": [
    {
     "data": {
      "image/png": "[encoded data removed]",
      "text/plain": [
       "<Figure size 640x480 with 1 Axes>"
      ]
     },
     "metadata": {},
     "output_type": "display_data"
    }
   ],
   "source": [
    "sns.histplot(x=data)\n",
    "plt.title(\"Distribution of Sepal Lengths\")\n",
    "plt.show()"
   ]
  },
  {
   "cell_type": "code",
   "execution_count": 30,
   "id": "caca9497",
   "metadata": {},
   "outputs": [
    {
     "data": {
      "image/png": "[encoded data removed]",
      "text/plain": [
       "<Figure size 640x480 with 1 Axes>"
      ]
     },
     "metadata": {},
     "output_type": "display_data"
    }
   ],
   "source": [
    "# kde plot\n",
    "sns.kdeplot(x=data)\n",
    "plt.title(\"KDE Plot of Sepal Lengths\")\n",
    "plt.show()"
   ]
  },
  {
   "cell_type": "code",
   "execution_count": 33,
   "id": "4b635d7f",
   "metadata": {},
   "outputs": [
    {
     "data": {
      "text/plain": [
       "<Axes: xlabel='sepal_length', ylabel='Density'>"
      ]
     },
     "execution_count": 33,
     "metadata": {},
     "output_type": "execute_result"
    },
    {
     "data": {
      "image/png": "[encoded data removed]",
      "text/plain": [
       "<Figure size 640x480 with 1 Axes>"
      ]
     },
     "metadata": {},
     "output_type": "display_data"
    }
   ],
   "source": [
    "\n",
    "# histogram customized for KDE\n",
    "sns.histplot(data=data, kde=True, stat=\"density\")"
   ]
  },
  {
   "cell_type": "code",
   "execution_count": 46,
   "id": "2e9686fe",
   "metadata": {},
   "outputs": [
    {
     "name": "stdout",
     "output_type": "stream",
     "text": [
      "[3.38805631 3.41531202 3.44256774 3.46982346 3.49707917 3.52433489\n",
      " 3.5515906  3.57884632 3.60610203 3.63335775]\n",
      "200\n",
      "[0.00022618 0.0003017  0.00039951 0.00052519 0.00068543 0.00088817\n",
      " 0.00114268 0.00145974 0.0018517  0.00233256]\n",
      "200\n",
      "density at 6: 0.3904191560853395\n",
      "density at 8: 0.0363848139130908\n",
      "Probability around 6: 0.03904036116742182\n",
      "Probability around 8: 0.003642027452542368\n"
     ]
    },
    {
     "data": {
      "image/png": "[encoded data removed]",
      "text/plain": [
       "<Figure size 640x480 with 1 Axes>"
      ]
     },
     "metadata": {},
     "output_type": "display_data"
    }
   ],
   "source": [
    "# Using KDE to estimate probability\n",
    "# What’s the probability it falls in a small range around that value? 7 and 8.\n",
    "from scipy.integrate import quad # quad integrates over the small interval → gives probability.\n",
    "\n",
    "# Fit KDE\n",
    "kde = sns.kdeplot(data=df, x=\"sepal_length\").get_lines()[0] # Plot the KDE, then grab the line that was drawn\n",
    "# seaborn.kdeplot draws a line on a matplotlib Axes object. That line is actually a matplotlib Line2D object.\n",
    "# .get_lines() → returns a list of all the line objects drawn on that Axes.\n",
    "# [0] → gets the first line (which is your KDE curve).\n",
    "\n",
    "x_vals = kde.get_xdata() # returns the array of x-values used to draw the curve\n",
    "y_vals = kde.get_ydata() # returns the array of y-values (the density) at those x-points\n",
    "print(x_vals[:10]) # first 10 x-values\n",
    "print(len(x_vals)) # number of x-values\n",
    "\n",
    "print(y_vals[:10]) # first 10 y-values (densities)\n",
    "print(len(y_vals)) # number of y-values (densities)\n",
    "\n",
    "# Interpolation function for integration\n",
    "from scipy.interpolate import interp1d # interp1d creates an interpolation function from given x–y points\n",
    "\n",
    "# KDE-based PDF (density)\n",
    "f = interp1d(\n",
    "    x_vals,          # known x points\n",
    "    y_vals,          # known y points (density)\n",
    "    kind='linear',   # interpolate between points linearly\n",
    "    fill_value=0,    # density = 0 outside data range\n",
    "    bounds_error=False  # don't throw error if x is outside range\n",
    ") \n",
    "\n",
    "print(f\"density at 6: {f(6)}\")  # density at x = 6\n",
    "print(f\"density at 8: {f(8)}\")  # density at x = 8\n",
    "\n",
    "# Probability for ±0.05 around 6: P(5.95≤x≤6.05)\n",
    "prob_6, _ = quad(f, 5.95, 6.05) # Integrates f(x) between 5.95 and 6.05\n",
    "print(f\"Probability around 6: {prob_6}\")\n",
    "\n",
    "# Probability for ±0.05 around 8: P(7.95≤x≤8.05)\n",
    "prob_8, _ = quad(f, 7.95, 8.05) # Integrates f(x) between 7.95 and 8.05\n",
    "print(f\"Probability around 8: {prob_8}\")\n",
    "\n",
    "# KDE is telling us:\n",
    "# Sepal lengths near 6 are more common.\n",
    "# Sepal lengths near 8 are rare."
   ]
  },
  {
   "cell_type": "code",
   "execution_count": 47,
   "id": "f677497d",
   "metadata": {},
   "outputs": [
    {
     "name": "stdout",
     "output_type": "stream",
     "text": [
      "sepal_length: Range=3.60, IQR=1.30\n",
      "sepal_width: Range=2.40, IQR=0.50\n",
      "petal_length: Range=5.90, IQR=3.50\n",
      "petal_width: Range=2.40, IQR=1.50\n"
     ]
    }
   ],
   "source": [
    "# loop over columns to get custom measures\n",
    "for col in df.select_dtypes(include=np.number).columns: # Loop through each numeric column, select_dtypes selects columns by data type\n",
    "    col_data = df[col]\n",
    "    col_range = col_data.max() - col_data.min()\n",
    "    col_iqr = np.percentile(col_data, 75) - np.percentile(col_data, 25)\n",
    "    print(f\"{col}: Range={col_range:.2f}, IQR={col_iqr:.2f}\")"
   ]
  },
  {
   "cell_type": "code",
   "execution_count": 125,
   "id": "b3dd52ba",
   "metadata": {},
   "outputs": [
    {
     "data": {
      "text/html": [
       "<div>\n",
       "<style scoped>\n",
       "    .dataframe tbody tr th:only-of-type {\n",
       "        vertical-align: middle;\n",
       "    }\n",
       "\n",
       "    .dataframe tbody tr th {\n",
       "        vertical-align: top;\n",
       "    }\n",
       "\n",
       "    .dataframe thead th {\n",
       "        text-align: right;\n",
       "    }\n",
       "</style>\n",
       "<table border=\"1\" class=\"dataframe\">\n",
       "  <thead>\n",
       "    <tr style=\"text-align: right;\">\n",
       "      <th></th>\n",
       "      <th>min</th>\n",
       "      <th>max</th>\n",
       "      <th>var</th>\n",
       "      <th>std</th>\n",
       "      <th>mean</th>\n",
       "      <th>median</th>\n",
       "      <th>count</th>\n",
       "    </tr>\n",
       "    <tr>\n",
       "      <th>species</th>\n",
       "      <th></th>\n",
       "      <th></th>\n",
       "      <th></th>\n",
       "      <th></th>\n",
       "      <th></th>\n",
       "      <th></th>\n",
       "      <th></th>\n",
       "    </tr>\n",
       "  </thead>\n",
       "  <tbody>\n",
       "    <tr>\n",
       "      <th>setosa</th>\n",
       "      <td>4.3</td>\n",
       "      <td>5.8</td>\n",
       "      <td>0.124249</td>\n",
       "      <td>0.352490</td>\n",
       "      <td>5.006</td>\n",
       "      <td>5.0</td>\n",
       "      <td>50</td>\n",
       "    </tr>\n",
       "    <tr>\n",
       "      <th>versicolor</th>\n",
       "      <td>4.9</td>\n",
       "      <td>7.0</td>\n",
       "      <td>0.266433</td>\n",
       "      <td>0.516171</td>\n",
       "      <td>5.936</td>\n",
       "      <td>5.9</td>\n",
       "      <td>50</td>\n",
       "    </tr>\n",
       "    <tr>\n",
       "      <th>virginica</th>\n",
       "      <td>4.9</td>\n",
       "      <td>7.9</td>\n",
       "      <td>0.404343</td>\n",
       "      <td>0.635880</td>\n",
       "      <td>6.588</td>\n",
       "      <td>6.5</td>\n",
       "      <td>50</td>\n",
       "    </tr>\n",
       "  </tbody>\n",
       "</table>\n",
       "</div>"
      ],
      "text/plain": [
       "            min  max       var       std   mean  median  count\n",
       "species                                                       \n",
       "setosa      4.3  5.8  0.124249  0.352490  5.006     5.0     50\n",
       "versicolor  4.9  7.0  0.266433  0.516171  5.936     5.9     50\n",
       "virginica   4.9  7.9  0.404343  0.635880  6.588     6.5     50"
      ]
     },
     "execution_count": 125,
     "metadata": {},
     "output_type": "execute_result"
    }
   ],
   "source": [
    "# Using groupby to calculate descriptive statistics\n",
    "\n",
    "# df.groupby('something')['some_column'].agg([...])\n",
    "\n",
    "df.groupby(\"species\")['sepal_length'].agg(['min', 'max', 'var', 'std', 'mean', 'median', 'count'])"
   ]
  },
  {
   "cell_type": "code",
   "execution_count": 53,
   "id": "793ce5ca",
   "metadata": {},
   "outputs": [
    {
     "name": "stdout",
     "output_type": "stream",
     "text": [
      "            sample_var  sample_std   pop_var   pop_std    IQR\n",
      "species                                                      \n",
      "setosa        0.124249    0.352490  0.121764  0.348947  0.400\n",
      "versicolor    0.266433    0.516171  0.261104  0.510983  0.700\n",
      "virginica     0.404343    0.635880  0.396256  0.629489  0.675\n"
     ]
    }
   ],
   "source": [
    "# Group by species and calculate spread measures\n",
    "spread_stats = df.groupby('species')['sepal_length'].agg([\n",
    "    ('sample_var', 'var'),                          # sample variance (ddof=1)\n",
    "    ('sample_std', 'std'),                          # sample std dev (ddof=1)\n",
    "    ('pop_var', lambda x: x.var(ddof=0)),           # population variance\n",
    "    ('pop_std', lambda x: x.std(ddof=0)),           # population std dev\n",
    "    ('IQR', lambda x: np.percentile(x, 75) - np.percentile(x, 25)),  # Interquartile range\n",
    "])\n",
    "\n",
    "print(spread_stats)"
   ]
  },
  {
   "cell_type": "code",
   "execution_count": 54,
   "id": "acc4f501",
   "metadata": {},
   "outputs": [
    {
     "name": "stderr",
     "output_type": "stream",
     "text": [
      "C:\\Users\\akshaysi\\AppData\\Local\\Temp\\ipykernel_20992\\1656631254.py:2: FutureWarning: The provided callable <function mean at 0x0000021F6248CA40> is currently using SeriesGroupBy.mean. In a future version of pandas, the provided callable will be used directly. To keep current behavior pass the string \"mean\" instead.\n",
      "  df.groupby(\"species\")['sepal_length'].agg([np.mean, np.median, np.std, np.var, np.min, np.max])\n",
      "C:\\Users\\akshaysi\\AppData\\Local\\Temp\\ipykernel_20992\\1656631254.py:2: FutureWarning: The provided callable <function median at 0x0000021F625C8E00> is currently using SeriesGroupBy.median. In a future version of pandas, the provided callable will be used directly. To keep current behavior pass the string \"median\" instead.\n",
      "  df.groupby(\"species\")['sepal_length'].agg([np.mean, np.median, np.std, np.var, np.min, np.max])\n",
      "C:\\Users\\akshaysi\\AppData\\Local\\Temp\\ipykernel_20992\\1656631254.py:2: FutureWarning: The provided callable <function std at 0x0000021F6248CB80> is currently using SeriesGroupBy.std. In a future version of pandas, the provided callable will be used directly. To keep current behavior pass the string \"std\" instead.\n",
      "  df.groupby(\"species\")['sepal_length'].agg([np.mean, np.median, np.std, np.var, np.min, np.max])\n",
      "C:\\Users\\akshaysi\\AppData\\Local\\Temp\\ipykernel_20992\\1656631254.py:2: FutureWarning: The provided callable <function var at 0x0000021F6248CCC0> is currently using SeriesGroupBy.var. In a future version of pandas, the provided callable will be used directly. To keep current behavior pass the string \"var\" instead.\n",
      "  df.groupby(\"species\")['sepal_length'].agg([np.mean, np.median, np.std, np.var, np.min, np.max])\n",
      "C:\\Users\\akshaysi\\AppData\\Local\\Temp\\ipykernel_20992\\1656631254.py:2: FutureWarning: The provided callable <function min at 0x0000021F6248C180> is currently using SeriesGroupBy.min. In a future version of pandas, the provided callable will be used directly. To keep current behavior pass the string \"min\" instead.\n",
      "  df.groupby(\"species\")['sepal_length'].agg([np.mean, np.median, np.std, np.var, np.min, np.max])\n",
      "C:\\Users\\akshaysi\\AppData\\Local\\Temp\\ipykernel_20992\\1656631254.py:2: FutureWarning: The provided callable <function max at 0x0000021F6248C040> is currently using SeriesGroupBy.max. In a future version of pandas, the provided callable will be used directly. To keep current behavior pass the string \"max\" instead.\n",
      "  df.groupby(\"species\")['sepal_length'].agg([np.mean, np.median, np.std, np.var, np.min, np.max])\n"
     ]
    },
    {
     "data": {
      "text/html": [
       "<div>\n",
       "<style scoped>\n",
       "    .dataframe tbody tr th:only-of-type {\n",
       "        vertical-align: middle;\n",
       "    }\n",
       "\n",
       "    .dataframe tbody tr th {\n",
       "        vertical-align: top;\n",
       "    }\n",
       "\n",
       "    .dataframe thead th {\n",
       "        text-align: right;\n",
       "    }\n",
       "</style>\n",
       "<table border=\"1\" class=\"dataframe\">\n",
       "  <thead>\n",
       "    <tr style=\"text-align: right;\">\n",
       "      <th></th>\n",
       "      <th>mean</th>\n",
       "      <th>median</th>\n",
       "      <th>std</th>\n",
       "      <th>var</th>\n",
       "      <th>min</th>\n",
       "      <th>max</th>\n",
       "    </tr>\n",
       "    <tr>\n",
       "      <th>species</th>\n",
       "      <th></th>\n",
       "      <th></th>\n",
       "      <th></th>\n",
       "      <th></th>\n",
       "      <th></th>\n",
       "      <th></th>\n",
       "    </tr>\n",
       "  </thead>\n",
       "  <tbody>\n",
       "    <tr>\n",
       "      <th>setosa</th>\n",
       "      <td>5.006</td>\n",
       "      <td>5.0</td>\n",
       "      <td>0.352490</td>\n",
       "      <td>0.124249</td>\n",
       "      <td>4.3</td>\n",
       "      <td>5.8</td>\n",
       "    </tr>\n",
       "    <tr>\n",
       "      <th>versicolor</th>\n",
       "      <td>5.936</td>\n",
       "      <td>5.9</td>\n",
       "      <td>0.516171</td>\n",
       "      <td>0.266433</td>\n",
       "      <td>4.9</td>\n",
       "      <td>7.0</td>\n",
       "    </tr>\n",
       "    <tr>\n",
       "      <th>virginica</th>\n",
       "      <td>6.588</td>\n",
       "      <td>6.5</td>\n",
       "      <td>0.635880</td>\n",
       "      <td>0.404343</td>\n",
       "      <td>4.9</td>\n",
       "      <td>7.9</td>\n",
       "    </tr>\n",
       "  </tbody>\n",
       "</table>\n",
       "</div>"
      ],
      "text/plain": [
       "             mean  median       std       var  min  max\n",
       "species                                                \n",
       "setosa      5.006     5.0  0.352490  0.124249  4.3  5.8\n",
       "versicolor  5.936     5.9  0.516171  0.266433  4.9  7.0\n",
       "virginica   6.588     6.5  0.635880  0.404343  4.9  7.9"
      ]
     },
     "execution_count": 54,
     "metadata": {},
     "output_type": "execute_result"
    }
   ],
   "source": [
    "# Using groupby to calculate descriptive statistics\n",
    "df.groupby(\"species\")['sepal_length'].agg([np.mean, np.median, np.std, np.var, np.min, np.max])"
   ]
  },
  {
   "cell_type": "code",
   "execution_count": 55,
   "id": "1ccf7e51",
   "metadata": {},
   "outputs": [
    {
     "name": "stderr",
     "output_type": "stream",
     "text": [
      "C:\\Users\\akshaysi\\AppData\\Local\\Temp\\ipykernel_20992\\2043332412.py:1: FutureWarning: The provided callable <function mean at 0x0000021F6248CA40> is currently using SeriesGroupBy.mean. In a future version of pandas, the provided callable will be used directly. To keep current behavior pass the string \"mean\" instead.\n",
      "  df.groupby('species')['sepal_length'].agg([\n"
     ]
    },
    {
     "data": {
      "text/html": [
       "<div>\n",
       "<style scoped>\n",
       "    .dataframe tbody tr th:only-of-type {\n",
       "        vertical-align: middle;\n",
       "    }\n",
       "\n",
       "    .dataframe tbody tr th {\n",
       "        vertical-align: top;\n",
       "    }\n",
       "\n",
       "    .dataframe thead th {\n",
       "        text-align: right;\n",
       "    }\n",
       "</style>\n",
       "<table border=\"1\" class=\"dataframe\">\n",
       "  <thead>\n",
       "    <tr style=\"text-align: right;\">\n",
       "      <th></th>\n",
       "      <th>pop_mean</th>\n",
       "      <th>pop_std</th>\n",
       "    </tr>\n",
       "    <tr>\n",
       "      <th>species</th>\n",
       "      <th></th>\n",
       "      <th></th>\n",
       "    </tr>\n",
       "  </thead>\n",
       "  <tbody>\n",
       "    <tr>\n",
       "      <th>setosa</th>\n",
       "      <td>5.006</td>\n",
       "      <td>0.348947</td>\n",
       "    </tr>\n",
       "    <tr>\n",
       "      <th>versicolor</th>\n",
       "      <td>5.936</td>\n",
       "      <td>0.510983</td>\n",
       "    </tr>\n",
       "    <tr>\n",
       "      <th>virginica</th>\n",
       "      <td>6.588</td>\n",
       "      <td>0.629489</td>\n",
       "    </tr>\n",
       "  </tbody>\n",
       "</table>\n",
       "</div>"
      ],
      "text/plain": [
       "            pop_mean   pop_std\n",
       "species                       \n",
       "setosa         5.006  0.348947\n",
       "versicolor     5.936  0.510983\n",
       "virginica      6.588  0.629489"
      ]
     },
     "execution_count": 55,
     "metadata": {},
     "output_type": "execute_result"
    }
   ],
   "source": [
    "df.groupby('species')['sepal_length'].agg([\n",
    "    ('pop_mean', np.mean),\n",
    "    ('pop_std', lambda x: np.std(x, ddof=0))\n",
    "])"
   ]
  },
  {
   "cell_type": "code",
   "execution_count": 58,
   "id": "3933de51",
   "metadata": {},
   "outputs": [
    {
     "data": {
      "image/png": "[encoded data removed]",
      "text/plain": [
       "<Figure size 640x480 with 1 Axes>"
      ]
     },
     "metadata": {},
     "output_type": "display_data"
    }
   ],
   "source": [
    "# Create histogram of sepal lengths for species: 'setosa'\n",
    "setosa_data = df[df['species'] == 'setosa']['sepal_length']\n",
    "plt.hist(setosa_data, bins=10, alpha=0.3, color='blue')\n",
    "plt.title(\"Histogram of Sepal Lengths for Setosa\")\n",
    "plt.xlabel(\"Sepal Length\")\n",
    "plt.ylabel(\"Frequency\")\n",
    "plt.show()\n"
   ]
  },
  {
   "cell_type": "code",
   "execution_count": 57,
   "id": "4c81a7da",
   "metadata": {},
   "outputs": [
    {
     "data": {
      "image/png": "[encoded data removed]",
      "text/plain": [
       "<Figure size 640x480 with 1 Axes>"
      ]
     },
     "metadata": {},
     "output_type": "display_data"
    }
   ],
   "source": [
    "versicolor_data = df[df['species']=='versicolor']['sepal_length']\n",
    "plt.hist(x=versicolor_data, color='orange')\n",
    "plt.title(\"Histogram of Sepal Lengths for Versicolor\")\n",
    "plt.xlabel(\"Sepal Length\")\n",
    "plt.ylabel(\"Frequency\")\n",
    "plt.show()\n"
   ]
  },
  {
   "cell_type": "code",
   "execution_count": 66,
   "id": "1434df6e",
   "metadata": {},
   "outputs": [
    {
     "data": {
      "image/png": "[encoded data removed]",
      "text/plain": [
       "<Figure size 640x480 with 1 Axes>"
      ]
     },
     "metadata": {},
     "output_type": "display_data"
    }
   ],
   "source": [
    "# histogram plot for sepal lengths for a given species, say 'versicolor'\n",
    "versicolor_data = df[df['species']=='versicolor']['sepal_length'].hist(bins=10, color='pink')\n"
   ]
  },
  {
   "cell_type": "code",
   "execution_count": 78,
   "id": "1de0b234",
   "metadata": {},
   "outputs": [
    {
     "data": {
      "image/png": "[encoded data removed]",
      "text/plain": [
       "<Figure size 640x480 with 1 Axes>"
      ]
     },
     "metadata": {},
     "output_type": "display_data"
    }
   ],
   "source": [
    "# histogram plot for sepal lengths for a given species, say 'versicolor'\n",
    "versicolor_data = df[df['species']=='versicolor']['sepal_length']\n",
    "sns.histplot(versicolor_data, kde=True, color='green')\n",
    "plt.title(\"Histogram of Sepal Lengths for Versicolor\")\n",
    "# plt.xlabel(\"Sepal Length\")\n",
    "plt.ylabel(\"Count\" if not kde else \"Density\")\n",
    "plt.show()"
   ]
  },
  {
   "cell_type": "code",
   "execution_count": 81,
   "id": "983691b8",
   "metadata": {},
   "outputs": [
    {
     "data": {
      "image/png": "[encoded data removed]",
      "text/plain": [
       "<Figure size 640x480 with 1 Axes>"
      ]
     },
     "metadata": {},
     "output_type": "display_data"
    }
   ],
   "source": [
    "# histogram plot for sepal lengths for a given species, say 'versicolor'\n",
    "versicolor_data = df[df['species']=='versicolor']['sepal_length']\n",
    "sns.histplot(x=versicolor_data, color='green')\n",
    "plt.show()\n",
    "\n",
    "\n",
    "# Origin: Seaborn, built on top of Matplotlib.\n",
    "# Behavior:\n",
    "# Modern aesthetics (nicer defaults).\n",
    "# Supports KDE curve with kde=True.\n",
    "# Flexible stat parameter ('count', 'density', 'probability', 'percent').\n",
    "# Supports hue for grouped histograms, multiple plots in one call.\n",
    "# Return value: A Matplotlib Axes object (but styled via Seaborn’s theme).\n",
    "# Style: Applies Seaborn theme automatically (unless overridden).\n"
   ]
  },
  {
   "cell_type": "code",
   "execution_count": 82,
   "id": "9056212c",
   "metadata": {},
   "outputs": [
    {
     "data": {
      "image/png": "[encoded data removed]",
      "text/plain": [
       "<Figure size 640x480 with 1 Axes>"
      ]
     },
     "metadata": {},
     "output_type": "display_data"
    }
   ],
   "source": [
    "# histogram plot for sepal lengths for a given species, say 'versicolor'\n",
    "versicolor_data = df[df['species']=='versicolor']['sepal_length'].hist()\n",
    "\n",
    "# Origin: Pandas’ built-in wrapper around matplotlib.pyplot.hist.\n",
    "# Behavior:\n",
    "# Creates a basic Matplotlib histogram.\n",
    "# Limited customization (bins, color, alpha, etc.).\n",
    "# No KDE (kernel density curve) option.\n",
    "# Return value: A Matplotlib AxesSubplot object.\n",
    "# Style: Uses Matplotlib’s default style (unless you set a theme)."
   ]
  },
  {
   "cell_type": "code",
   "execution_count": 77,
   "id": "feb4e5a7",
   "metadata": {},
   "outputs": [],
   "source": [
    "# Here’s the quick breakdown of how sns.histplot() treats x differently depending on whether it’s \n",
    "# a string or a Series/array:\n",
    "\n",
    "# Case 1 : x is a string (column name)\n",
    "# python\n",
    "# Copy\n",
    "# Edit\n",
    "# sns.histplot(data=df, x='sepal_length', color='green')\n",
    "# x = column name \"sepal_length\".\n",
    "\n",
    "# Seaborn looks inside data=df for that column.\n",
    "\n",
    "# You must pass data when x is a column name.\n",
    "\n",
    "# Case 2 : x is a Pandas Series or NumPy array\n",
    "# python\n",
    "# Copy\n",
    "# Edit\n",
    "# versicolor_data = df[df['species'] == 'versicolor']['sepal_length']\n",
    "# sns.histplot(x=versicolor_data, color='green')\n",
    "# or even shorter:\n",
    "\n",
    "# python\n",
    "# Copy\n",
    "# Edit\n",
    "# sns.histplot(versicolor_data, color='green')\n",
    "# x is already numeric data.\n",
    "\n",
    "# Seaborn ignores data= (even if you pass it).\n",
    "\n",
    "# No need for data= because you’re not referencing a column name.\n",
    "\n",
    "# What about y?\n",
    "# In histograms, y is not explicitly given — it’s computed internally as:\n",
    "\n",
    "# Counts (stat='count') — default\n",
    "\n",
    "# Density (stat='density' or when kde=True)\n",
    "\n",
    "# Probability (stat='probability')\n",
    "\n",
    "# Percent (stat='percent')\n",
    "\n",
    "# So y is generated from x automatically.\n",
    "\n",
    "# ✅ Key takeaway:\n",
    "\n",
    "# String → column name, needs data=df.\n",
    "\n",
    "# Series/array → raw values, no data= needed."
   ]
  },
  {
   "cell_type": "code",
   "execution_count": null,
   "id": "e9c15fe3",
   "metadata": {},
   "outputs": [
    {
     "data": {
      "image/png": "[encoded data removed]",
      "text/plain": [
       "<Figure size 640x480 with 1 Axes>"
      ]
     },
     "metadata": {},
     "output_type": "display_data"
    }
   ],
   "source": []
  },
  {
   "cell_type": "code",
   "execution_count": 86,
   "id": "8e0f60f1",
   "metadata": {},
   "outputs": [
    {
     "name": "stdout",
     "output_type": "stream",
     "text": [
      "0.00    4.3\n",
      "0.25    5.1\n",
      "0.50    5.8\n",
      "0.75    6.4\n",
      "1.00    7.9\n",
      "Name: sepal_length, dtype: float64\n"
     ]
    }
   ],
   "source": [
    "# Quantiles for sepal_length using pandas\n",
    "quantiles = df['sepal_length'].quantile([0, 0.25, 0.5, 0.75, 1])\n",
    "print(quantiles)\n"
   ]
  },
  {
   "cell_type": "code",
   "execution_count": 87,
   "id": "6a706ec9",
   "metadata": {},
   "outputs": [
    {
     "name": "stdout",
     "output_type": "stream",
     "text": [
      "[4.3 5.1 5.8 6.4 7.9]\n"
     ]
    }
   ],
   "source": [
    "# Quantiles for sepal_length using numpy\n",
    "quantiles = np.quantile(df['sepal_length'], [0, 0.25, 0.5, 0.75, 1])\n",
    "print(quantiles)\n"
   ]
  },
  {
   "cell_type": "code",
   "execution_count": 88,
   "id": "812f7704",
   "metadata": {},
   "outputs": [
    {
     "name": "stdout",
     "output_type": "stream",
     "text": [
      "0.2    5.00\n",
      "0.4    5.60\n",
      "0.6    6.10\n",
      "0.8    6.52\n",
      "Name: sepal_length, dtype: float64\n",
      "[5.   5.6  6.1  6.52]\n"
     ]
    }
   ],
   "source": [
    "# Quintiles for sepal_length using pandas\n",
    "quintiles = df['sepal_length'].quantile([0.2, 0.4, 0.6, 0.8])\n",
    "print(quintiles)\n",
    "\n",
    "# Quintiles for sepal_length using numpy\n",
    "quintiles = np.quantile(df['sepal_length'], [0.2, 0.4, 0.6, 0.8])\n",
    "print(quintiles)\n"
   ]
  },
  {
   "cell_type": "code",
   "execution_count": 89,
   "id": "9edc1873",
   "metadata": {},
   "outputs": [
    {
     "name": "stdout",
     "output_type": "stream",
     "text": [
      "0.25    5.1\n",
      "0.50    5.8\n",
      "0.75    6.4\n",
      "Name: sepal_length, dtype: float64\n",
      "[5.1 5.8 6.4]\n"
     ]
    }
   ],
   "source": [
    "# Quartiles for sepal_length using pandas\n",
    "quartiles = df['sepal_length'].quantile([0.25, 0.5, 0.75])\n",
    "print(quartiles)\n",
    "\n",
    "# Quartiles for sepal_length using numpy\n",
    "quartiles = np.quantile(df['sepal_length'], [0.25, 0.5, 0.75])\n",
    "print(quartiles)\n"
   ]
  },
  {
   "cell_type": "code",
   "execution_count": 97,
   "id": "25b1ab35",
   "metadata": {},
   "outputs": [
    {
     "name": "stdout",
     "output_type": "stream",
     "text": [
      "5.1\n",
      "5.8\n",
      "6.4\n",
      "0.1    4.8\n",
      "0.2    5.0\n",
      "0.5    5.8\n",
      "0.9    6.9\n",
      "Name: sepal_length, dtype: float64\n"
     ]
    }
   ],
   "source": [
    "# Example Series\n",
    "s = df['sepal_length']\n",
    "\n",
    "# Quantile (general form)\n",
    "print(s.quantile(0.25))   # 1st quartile (Q1)\n",
    "print(s.quantile(0.5))    # median (Q2)\n",
    "print(s.quantile(0.75))   # 3rd quartile (Q3)\n",
    "\n",
    "# Multiple quantiles at once\n",
    "print(s.quantile([0.1, 0.2, 0.5, 0.9]))   # deciles/quintiles/etc."
   ]
  },
  {
   "cell_type": "code",
   "execution_count": 98,
   "id": "6585808d",
   "metadata": {},
   "outputs": [
    {
     "data": {
      "text/plain": [
       "array([5.1, 5.8, 6.4])"
      ]
     },
     "execution_count": 98,
     "metadata": {},
     "output_type": "execute_result"
    }
   ],
   "source": [
    "np.percentile(s, [25, 50, 75])   # quartiles using numpy percentile"
   ]
  },
  {
   "cell_type": "code",
   "execution_count": 99,
   "id": "e3cda44f",
   "metadata": {},
   "outputs": [
    {
     "name": "stdout",
     "output_type": "stream",
     "text": [
      "0.000000    4.300000\n",
      "0.083333    4.800000\n",
      "0.166667    5.000000\n",
      "0.250000    5.100000\n",
      "0.333333    5.400000\n",
      "0.416667    5.600000\n",
      "0.500000    5.800000\n",
      "0.583333    6.000000\n",
      "0.666667    6.300000\n",
      "0.750000    6.400000\n",
      "0.833333    6.700000\n",
      "0.916667    6.958333\n",
      "1.000000    7.900000\n",
      "Name: sepal_length, dtype: float64\n"
     ]
    }
   ],
   "source": [
    "# If you want the quantile cut points (boundaries between bins)\n",
    "# Generate 12 equal quantile boundaries\n",
    "quantile_edges = s.quantile(np.linspace(0, 1, 13))  # 13 points = 12 bins, np.linspace(0, 1, 13) → [0, 1/12, 2/12, …, 1]\n",
    "\n",
    "print(quantile_edges)"
   ]
  },
  {
   "cell_type": "code",
   "execution_count": 111,
   "id": "df90bb61",
   "metadata": {},
   "outputs": [
    {
     "name": "stdout",
     "output_type": "stream",
     "text": [
      "0     1\n",
      "1     1\n",
      "2     1\n",
      "3     1\n",
      "4     1\n",
      "5     2\n",
      "6     1\n",
      "7     1\n",
      "8     1\n",
      "9     1\n",
      "10    2\n",
      "11    1\n",
      "12    1\n",
      "13    1\n",
      "14    2\n",
      "15    2\n",
      "16    2\n",
      "17    1\n",
      "18    2\n",
      "19    1\n",
      "Name: sepal_length, dtype: int64\n"
     ]
    }
   ],
   "source": [
    "# Difference from pd.cut():\n",
    "# pd.cut() → splits into equal-width bins (based on range).\n",
    "# pd.qcut() → splits into equal-frequency bins (based on quantiles).\n",
    "\n",
    "\n",
    "# Assign bins 1 through 4\n",
    "s_bins = pd.qcut(s, q=4, labels=False) + 1  \n",
    "# s_bins is a pandas Series that contains, for each row in the original data, the quantile bin label assigned based on the value of s\n",
    "# labels=False means the output will be bin numbers starting from 0 to 3.\n",
    "# Adding +1 shifts the bin numbers to 1 to 4.\n",
    "# So each sepal_length value in s will be labeled 1, 2, 3, or 4 based on which quartile it falls into\n",
    "print(s_bins.head(20))"
   ]
  },
  {
   "cell_type": "code",
   "execution_count": 119,
   "id": "02ef1862",
   "metadata": {},
   "outputs": [
    {
     "data": {
      "text/plain": [
       "2"
      ]
     },
     "execution_count": 119,
     "metadata": {},
     "output_type": "execute_result"
    }
   ],
   "source": [
    "s_bins[18] # it means the 19th row’s sepal_length lies in the second quantile (the 25%-50% range) of the entire sepal_length distribution"
   ]
  },
  {
   "cell_type": "code",
   "execution_count": 120,
   "id": "f308c432",
   "metadata": {},
   "outputs": [
    {
     "data": {
      "text/plain": [
       "4"
      ]
     },
     "execution_count": 120,
     "metadata": {},
     "output_type": "execute_result"
    }
   ],
   "source": [
    "s_bins[140] #  it means the 141st row’s sepal_length lies in the fourth quantile (the 75%-100% range) of the entire sepal_length distribution"
   ]
  },
  {
   "cell_type": "code",
   "execution_count": 121,
   "id": "15e15869",
   "metadata": {},
   "outputs": [
    {
     "name": "stdout",
     "output_type": "stream",
     "text": [
      "sepal_length\n",
      "1    41\n",
      "2    39\n",
      "3    35\n",
      "4    35\n",
      "Name: count, dtype: int64\n"
     ]
    }
   ],
   "source": [
    "bin_counts = s_bins.value_counts().sort_index()\n",
    "print(bin_counts)"
   ]
  },
  {
   "cell_type": "code",
   "execution_count": 104,
   "id": "04a31d49",
   "metadata": {},
   "outputs": [
    {
     "data": {
      "text/plain": [
       "pandas.core.series.Series"
      ]
     },
     "execution_count": 104,
     "metadata": {},
     "output_type": "execute_result"
    }
   ],
   "source": [
    "type(s_bins)"
   ]
  },
  {
   "cell_type": "code",
   "execution_count": 105,
   "id": "427b3d51",
   "metadata": {},
   "outputs": [
    {
     "data": {
      "text/plain": [
       "pandas.core.series.Series"
      ]
     },
     "execution_count": 105,
     "metadata": {},
     "output_type": "execute_result"
    }
   ],
   "source": [
    "type(bin_counts)"
   ]
  },
  {
   "cell_type": "code",
   "execution_count": 123,
   "id": "6d06c1b6",
   "metadata": {},
   "outputs": [
    {
     "name": "stdout",
     "output_type": "stream",
     "text": [
      "0      5.1\n",
      "1      4.9\n",
      "2      4.7\n",
      "3      4.6\n",
      "4      5.0\n",
      "6      4.6\n",
      "7      5.0\n",
      "8      4.4\n",
      "9      4.9\n",
      "11     4.8\n",
      "12     4.8\n",
      "13     4.3\n",
      "17     5.1\n",
      "19     5.1\n",
      "21     5.1\n",
      "22     4.6\n",
      "23     5.1\n",
      "24     4.8\n",
      "25     5.0\n",
      "26     5.0\n",
      "29     4.7\n",
      "30     4.8\n",
      "34     4.9\n",
      "35     5.0\n",
      "37     4.9\n",
      "38     4.4\n",
      "39     5.1\n",
      "40     5.0\n",
      "41     4.5\n",
      "42     4.4\n",
      "43     5.0\n",
      "44     5.1\n",
      "45     4.8\n",
      "46     5.1\n",
      "47     4.6\n",
      "49     5.0\n",
      "57     4.9\n",
      "60     5.0\n",
      "93     5.0\n",
      "98     5.1\n",
      "106    4.9\n",
      "Name: sepal_length, dtype: float64\n",
      "First quartile data count: 41\n"
     ]
    }
   ],
   "source": [
    "first_quartile_data = s[s_bins == 1]\n",
    "print(first_quartile_data)\n",
    "print(f\"First quartile data count: {len(first_quartile_data)}\")"
   ]
  },
  {
   "cell_type": "code",
   "execution_count": 124,
   "id": "4c15cf83",
   "metadata": {},
   "outputs": [
    {
     "name": "stdout",
     "output_type": "stream",
     "text": [
      "50     7.0\n",
      "52     6.9\n",
      "54     6.5\n",
      "58     6.6\n",
      "65     6.7\n",
      "75     6.6\n",
      "76     6.8\n",
      "77     6.7\n",
      "86     6.7\n",
      "102    7.1\n",
      "104    6.5\n",
      "105    7.6\n",
      "107    7.3\n",
      "108    6.7\n",
      "109    7.2\n",
      "110    6.5\n",
      "112    6.8\n",
      "116    6.5\n",
      "117    7.7\n",
      "118    7.7\n",
      "120    6.9\n",
      "122    7.7\n",
      "124    6.7\n",
      "125    7.2\n",
      "129    7.2\n",
      "130    7.4\n",
      "131    7.9\n",
      "135    7.7\n",
      "139    6.9\n",
      "140    6.7\n",
      "141    6.9\n",
      "143    6.8\n",
      "144    6.7\n",
      "145    6.7\n",
      "147    6.5\n",
      "Name: sepal_length, dtype: float64\n",
      "Last quartile data count: 35\n"
     ]
    }
   ],
   "source": [
    "last_quartile_data = s[s_bins == 4]\n",
    "print(last_quartile_data)\n",
    "print(f\"Last quartile data count: {len(last_quartile_data)}\")"
   ]
  },
  {
   "cell_type": "code",
   "execution_count": 126,
   "id": "4c1f2c41",
   "metadata": {},
   "outputs": [
    {
     "name": "stdout",
     "output_type": "stream",
     "text": [
      "Lower cutoff: 3.1499999999999986\n",
      "Upper cutoff: 8.350000000000001\n",
      "\n",
      "Outliers detected in sepal_length:\n",
      "Series([], Name: sepal_length, dtype: float64)\n"
     ]
    }
   ],
   "source": [
    "# Outliers\n",
    "\n",
    "# Select sepal_length series\n",
    "s = df['sepal_length']\n",
    "\n",
    "# Compute 1st quartile (Q1), 3rd quartile (Q3), and IQR\n",
    "q1 = np.quantile(s, 0.25)\n",
    "q3 = np.quantile(s, 0.75)\n",
    "iqr = q3 - q1\n",
    "\n",
    "# Define outlier cutoffs\n",
    "lower = q1 - 1.5 * iqr\n",
    "upper = q3 + 1.5 * iqr\n",
    "\n",
    "print(f\"Lower cutoff: {lower}\")\n",
    "print(f\"Upper cutoff: {upper}\")\n",
    "\n",
    "# Subset sepal_length to find outliers\n",
    "outliers = s[(s < lower) | (s > upper)]\n",
    "\n",
    "print(\"\\nOutliers detected in sepal_length:\")\n",
    "print(outliers)"
   ]
  },
  {
   "cell_type": "code",
   "execution_count": null,
   "id": "adaae1a1",
   "metadata": {},
   "outputs": [],
   "source": []
  }
 ],
 "metadata": {
  "kernelspec": {
   "display_name": "Python (deepl_ml_env)",
   "language": "python",
   "name": "deepl_ml_env"
  },
  "language_info": {
   "codemirror_mode": {
    "name": "ipython",
    "version": 3
   },
   "file_extension": ".py",
   "mimetype": "text/x-python",
   "name": "python",
   "nbconvert_exporter": "python",
   "pygments_lexer": "ipython3",
   "version": "3.11.13"
  }
 },
 "nbformat": 4,
 "nbformat_minor": 5
}
